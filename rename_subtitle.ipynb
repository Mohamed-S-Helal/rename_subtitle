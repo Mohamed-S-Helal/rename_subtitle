{
 "cells": [
  {
   "cell_type": "code",
   "execution_count": 25,
   "source": [
    "import os\r\n",
    "from difflib import get_close_matches\r\n",
    "ls = os.listdir()\r\n",
    "l1 = [i for i in ls if '.mp4' in i]\r\n",
    "l2 = [i for i in ls if '.vtt' in i]\r\n",
    "l3 = [get_close_matches(i, l2)[0] for i in l1]\r\n",
    "\r\n",
    "\r\n",
    "for i in l2:\r\n",
    "    if i not in l3:\r\n",
    "        print(i)\r\n",
    "        print(os.system('rem '+'\"'+i+'\"'))\r\n",
    "\r\n",
    "# print('ren \"'+l3[0]+'\" '+'\"'+l1[0][:-3]+'vtt\"')\r\n",
    "\r\n",
    "for i,j in zip(l1,l3):\r\n",
    "    print(os.system('ren \"'+j+'\" '+'\"'+i[:-3]+'vtt\"'))"
   ],
   "outputs": [],
   "metadata": {}
  },
  {
   "cell_type": "code",
   "execution_count": null,
   "source": [],
   "outputs": [],
   "metadata": {}
  }
 ],
 "metadata": {
  "orig_nbformat": 4,
  "language_info": {
   "name": "python",
   "version": "3.9.5",
   "mimetype": "text/x-python",
   "codemirror_mode": {
    "name": "ipython",
    "version": 3
   },
   "pygments_lexer": "ipython3",
   "nbconvert_exporter": "python",
   "file_extension": ".py"
  },
  "kernelspec": {
   "name": "python3",
   "display_name": "Python 3.9.5 64-bit ('base': conda)"
  },
  "interpreter": {
   "hash": "bb9f406c0f70fca9801e60f2cbb7cd1ccff2ae2f74c58f513340bcf6cae5ecd0"
  }
 },
 "nbformat": 4,
 "nbformat_minor": 2
}